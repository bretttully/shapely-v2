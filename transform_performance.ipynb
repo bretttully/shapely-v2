{
 "cells": [
  {
   "cell_type": "code",
   "execution_count": 1,
   "metadata": {},
   "outputs": [
    {
     "name": "stdout",
     "output_type": "stream",
     "text": [
      "shapely.__version__ = '2.0a1'\n"
     ]
    }
   ],
   "source": [
    "from typing import Optional\n",
    "\n",
    "import geopandas as gpd\n",
    "import shapely\n",
    "import shapely.affinity\n",
    "\n",
    "from shapely_test import shapes\n",
    "\n",
    "print(f\"{shapely.__version__ = }\")"
   ]
  },
  {
   "cell_type": "code",
   "execution_count": 2,
   "metadata": {},
   "outputs": [],
   "source": [
    "def assert_geodataframe_equal(left, right):\n",
    "    left = left.unary_union\n",
    "    right = right.unary_union\n",
    "    iou = left.intersection(right).area / left.union(right).area\n",
    "    assert iou >= 0.999, f\"Failed: {iou = :.8F} >= 0.999\""
   ]
  },
  {
   "cell_type": "code",
   "execution_count": 3,
   "metadata": {},
   "outputs": [],
   "source": [
    "# turn off snap_to_integers for performance testing\n",
    "generator = shapes.RandomSpotsGenerator(snap_to_integers=False)\n",
    "expected = generator(seed=0)"
   ]
  },
  {
   "cell_type": "markdown",
   "metadata": {},
   "source": [
    "# Translate"
   ]
  },
  {
   "cell_type": "code",
   "execution_count": 4,
   "metadata": {},
   "outputs": [],
   "source": [
    "def translate_affinity(gdf: gpd.GeoDataFrame, xoff: float, yoff: float, inplace=False) -> Optional[gpd.GeoDataFrame]:\n",
    "    new_geoms = gdf.geometry.apply(lambda g: shapely.affinity.translate(g, xoff, yoff))\n",
    "    return gdf.set_geometry(new_geoms, inplace=inplace)\n",
    "\n",
    "\n",
    "def translate_vectorized(gdf: gpd.GeoDataFrame, xoff: float, yoff: float, inplace=False) -> Optional[gpd.GeoDataFrame]:\n",
    "    new_geoms = shapely.transform(gdf.geometry, lambda x: x + [xoff, yoff])\n",
    "    return gdf.set_geometry(new_geoms, inplace=inplace)"
   ]
  },
  {
   "cell_type": "markdown",
   "metadata": {},
   "source": [
    "---"
   ]
  },
  {
   "cell_type": "code",
   "execution_count": 5,
   "metadata": {},
   "outputs": [],
   "source": [
    "gdf1 = translate_affinity(expected, 1, 1)\n",
    "gdf = translate_affinity(gdf1, -1, -1)\n",
    "assert_geodataframe_equal(expected, gdf)"
   ]
  },
  {
   "cell_type": "code",
   "execution_count": 6,
   "metadata": {},
   "outputs": [
    {
     "name": "stdout",
     "output_type": "stream",
     "text": [
      "28.6 ms ± 1.58 ms per loop (mean ± std. dev. of 7 runs, 10 loops each)\n"
     ]
    }
   ],
   "source": [
    "%%timeit\n",
    "_ = translate_affinity(expected, 1, 1)"
   ]
  },
  {
   "cell_type": "markdown",
   "metadata": {},
   "source": [
    "---"
   ]
  },
  {
   "cell_type": "code",
   "execution_count": 7,
   "metadata": {},
   "outputs": [],
   "source": [
    "gdf1 = translate_vectorized(expected, 1, 1)\n",
    "gdf = translate_vectorized(gdf1, -1, -1)\n",
    "assert_geodataframe_equal(expected, gdf)"
   ]
  },
  {
   "cell_type": "code",
   "execution_count": 8,
   "metadata": {},
   "outputs": [
    {
     "name": "stdout",
     "output_type": "stream",
     "text": [
      "3.88 ms ± 113 µs per loop (mean ± std. dev. of 7 runs, 100 loops each)\n"
     ]
    }
   ],
   "source": [
    "%%timeit\n",
    "_ = translate_vectorized(expected, 1, 1)"
   ]
  },
  {
   "cell_type": "markdown",
   "metadata": {},
   "source": [
    "# Scale"
   ]
  },
  {
   "cell_type": "code",
   "execution_count": 9,
   "metadata": {},
   "outputs": [],
   "source": [
    "def scale_affinity(gdf: gpd.GeoDataFrame, xfact: float, yfact: float, inplace=False) -> Optional[gpd.GeoDataFrame]:\n",
    "    new_geoms = gdf.geometry.apply(lambda g: shapely.affinity.scale(g, xfact, yfact, origin=(0, 0)))\n",
    "    return gdf.set_geometry(new_geoms, inplace=inplace)\n",
    "\n",
    "\n",
    "def scale_vectorized(gdf: gpd.GeoDataFrame, xfact: float, yfact: float, inplace=False) -> Optional[gpd.GeoDataFrame]:\n",
    "    new_geoms = shapely.transform(gdf.geometry, lambda x: x * [xfact, yfact])\n",
    "    return gdf.set_geometry(new_geoms, inplace=inplace)"
   ]
  },
  {
   "cell_type": "markdown",
   "metadata": {},
   "source": [
    "---"
   ]
  },
  {
   "cell_type": "code",
   "execution_count": 10,
   "metadata": {},
   "outputs": [],
   "source": [
    "gdf1 = scale_affinity(expected, 2, 2)\n",
    "gdf = scale_affinity(gdf1, 0.5, 0.5)\n",
    "assert_geodataframe_equal(expected, gdf)"
   ]
  },
  {
   "cell_type": "code",
   "execution_count": 11,
   "metadata": {},
   "outputs": [
    {
     "name": "stdout",
     "output_type": "stream",
     "text": [
      "29.4 ms ± 426 µs per loop (mean ± std. dev. of 7 runs, 10 loops each)\n"
     ]
    }
   ],
   "source": [
    "%%timeit\n",
    "_ = scale_affinity(expected, 2, 2)"
   ]
  },
  {
   "cell_type": "markdown",
   "metadata": {},
   "source": [
    "---"
   ]
  },
  {
   "cell_type": "code",
   "execution_count": 12,
   "metadata": {},
   "outputs": [],
   "source": [
    "gdf1 = scale_vectorized(expected, 2, 2)\n",
    "gdf = scale_vectorized(gdf1, 0.5, 0.5)\n",
    "assert_geodataframe_equal(expected, gdf)"
   ]
  },
  {
   "cell_type": "code",
   "execution_count": 13,
   "metadata": {},
   "outputs": [
    {
     "name": "stdout",
     "output_type": "stream",
     "text": [
      "3.84 ms ± 76.3 µs per loop (mean ± std. dev. of 7 runs, 100 loops each)\n"
     ]
    }
   ],
   "source": [
    "%%timeit\n",
    "_ = scale_vectorized(expected, 2, 2)"
   ]
  },
  {
   "cell_type": "markdown",
   "metadata": {},
   "source": [
    "# Coord Transform\n",
    "\n",
    "Test converting between pixel and Lon/Lat coordinate systems"
   ]
  },
  {
   "cell_type": "code",
   "execution_count": 14,
   "metadata": {},
   "outputs": [],
   "source": [
    "from typing import Callable, Tuple\n",
    "import numpy as np\n",
    "\n",
    "\n",
    "class Transformer:\n",
    "    \"\"\"Converts WSG-84 to/from pixels. See See https://wiki.openstreetmap.org/wiki/Slippy_map_tilenames\"\"\"\n",
    "\n",
    "    def __init__(self, zoom: int, px_per_tile: int):\n",
    "        self._zoom = zoom\n",
    "        self._px_per_tile = px_per_tile\n",
    "        self._scale = 2 ** zoom\n",
    "\n",
    "    def lon_lat_to_px__xy(self, lon: np.ndarray, lat: np.ndarray) -> Tuple:\n",
    "        lat_rad = np.deg2rad(lat)\n",
    "        xtile = ((lon + 180.0) / 360.0) * self._scale\n",
    "        ytile = (1.0 - np.arcsinh(np.tan(lat_rad)) / np.pi) / 2.0 * self._scale\n",
    "        return xtile * self._px_per_tile, ytile * self._px_per_tile\n",
    "\n",
    "    def px_to_lon_lat__xy(self, x: np.ndarray, y: np.ndarray) -> Tuple:\n",
    "        xtile, ytile = x / self._px_per_tile, y / self._px_per_tile\n",
    "        lon = xtile / self._scale * 360.0 - 180.0\n",
    "        lat_rad = np.arctan(np.sinh(np.pi * (1 - 2 * ytile / self._scale)))\n",
    "        lat = np.rad2deg(lat_rad)\n",
    "        return lon, lat\n",
    "\n",
    "    def lon_lat_to_px__pts(self, pts: np.ndarray) -> np.ndarray:\n",
    "        lon, lat = pts.T\n",
    "        return np.asarray(self.lon_lat_to_px__xy(lon, lat)).T\n",
    "\n",
    "    def px_to_lon_lat__pts(self, pts: np.ndarray) -> np.ndarray:\n",
    "        x, y = pts.T\n",
    "        return np.asarray(self.px_to_lon_lat__xy(x, y)).T\n",
    "\n",
    "\n",
    "transformer = Transformer(zoom=16, px_per_tile=generator.px_per_tile)"
   ]
  },
  {
   "cell_type": "code",
   "execution_count": 15,
   "metadata": {},
   "outputs": [],
   "source": [
    "def apply(gdf: gpd.GeoDataFrame, func: Callable, inplace=False) -> Optional[gpd.GeoDataFrame]:\n",
    "    new_geoms = gdf.geometry.apply(lambda g: shapely.ops.transform(func, g))\n",
    "    return gdf.set_geometry(new_geoms, inplace=inplace)\n",
    "\n",
    "\n",
    "def vectorized(gdf: gpd.GeoDataFrame, func: Callable, inplace=False) -> Optional[gpd.GeoDataFrame]:\n",
    "    new_geoms = shapely.transform(gdf.geometry, func)\n",
    "    return gdf.set_geometry(new_geoms, inplace=inplace)"
   ]
  },
  {
   "cell_type": "markdown",
   "metadata": {},
   "source": [
    "---"
   ]
  },
  {
   "cell_type": "code",
   "execution_count": 16,
   "metadata": {},
   "outputs": [],
   "source": [
    "gdf1 = apply(expected, transformer.px_to_lon_lat__xy)\n",
    "gdf = apply(gdf1, transformer.lon_lat_to_px__xy)\n",
    "assert_geodataframe_equal(expected, gdf)"
   ]
  },
  {
   "cell_type": "code",
   "execution_count": 17,
   "metadata": {},
   "outputs": [
    {
     "name": "stdout",
     "output_type": "stream",
     "text": [
      "233 ms ± 5.91 ms per loop (mean ± std. dev. of 7 runs, 1 loop each)\n"
     ]
    }
   ],
   "source": [
    "%%timeit\n",
    "_ = apply(expected, transformer.px_to_lon_lat__xy)"
   ]
  },
  {
   "cell_type": "markdown",
   "metadata": {},
   "source": [
    "---"
   ]
  },
  {
   "cell_type": "code",
   "execution_count": 18,
   "metadata": {},
   "outputs": [],
   "source": [
    "gdf1 = vectorized(expected, transformer.px_to_lon_lat__pts)\n",
    "gdf = vectorized(gdf1, transformer.lon_lat_to_px__pts)\n",
    "assert_geodataframe_equal(expected, gdf)"
   ]
  },
  {
   "cell_type": "code",
   "execution_count": 19,
   "metadata": {},
   "outputs": [
    {
     "name": "stdout",
     "output_type": "stream",
     "text": [
      "4.59 ms ± 143 µs per loop (mean ± std. dev. of 7 runs, 100 loops each)\n"
     ]
    }
   ],
   "source": [
    "%%timeit\n",
    "_ = vectorized(expected, transformer.px_to_lon_lat__pts)"
   ]
  }
 ],
 "metadata": {
  "kernelspec": {
   "display_name": "Python 3.10.5 ('shapely-v2')",
   "language": "python",
   "name": "python3"
  },
  "language_info": {
   "codemirror_mode": {
    "name": "ipython",
    "version": 3
   },
   "file_extension": ".py",
   "mimetype": "text/x-python",
   "name": "python",
   "nbconvert_exporter": "python",
   "pygments_lexer": "ipython3",
   "version": "3.10.5"
  },
  "orig_nbformat": 4,
  "vscode": {
   "interpreter": {
    "hash": "50e007d1f45825bdc6168e7dde884eca93f8da993b0f4f818996b7c41f1ef79a"
   }
  }
 },
 "nbformat": 4,
 "nbformat_minor": 2
}
