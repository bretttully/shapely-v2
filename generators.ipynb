{
 "cells": [
  {
   "cell_type": "code",
   "execution_count": null,
   "metadata": {},
   "outputs": [],
   "source": [
    "import matplotlib.pyplot as plt\n",
    "import shapely\n",
    "\n",
    "from shapely_test import shapes\n",
    "from shapely_test.cases import TestCase\n",
    "\n",
    "print(f\"{shapely.__version__ = }\")"
   ]
  },
  {
   "cell_type": "code",
   "execution_count": null,
   "metadata": {},
   "outputs": [],
   "source": [
    "def plot_generator(generator: shapes.RandomPolyGenerator):\n",
    "    case = TestCase(generator, seed=0)\n",
    "\n",
    "    fig, axes = plt.subplots(ncols=2, nrows=2, figsize=(20, 20), dpi=72)\n",
    "\n",
    "    # intersection\n",
    "    ax = axes[0, 0]\n",
    "    ax.set_title(\"Intersection\")\n",
    "    case.gdf1.plot(ax=ax, alpha=0.5, color=\"magenta\")\n",
    "    case.gdf2.plot(ax=ax, alpha=0.5, color=\"cyan\")\n",
    "    case.gdf1_gdf2_overlay_intersection().plot(ax=ax, alpha=0.5, color=\"black\")\n",
    "\n",
    "    # union\n",
    "    ax = axes[0, 1]\n",
    "    ax.set_title(\"Union\")\n",
    "    case.gdf1.plot(ax=ax, alpha=0.5, color=\"magenta\")\n",
    "    case.gdf2.plot(ax=ax, alpha=0.5, color=\"cyan\")\n",
    "    case.gdf1_gdf2_overlay_union().plot(ax=ax, alpha=0.4, color=\"black\")\n",
    "\n",
    "    # diff 1 -> 2\n",
    "    ax = axes[1, 0]\n",
    "    ax.set_title(\"1 Difference 2\")\n",
    "    case.gdf1.plot(ax=ax, alpha=0.5, color=\"magenta\")\n",
    "    case.gdf2.plot(ax=ax, alpha=0.5, color=\"cyan\")\n",
    "    case.gdf1_gdf2_overlay_difference().plot(ax=ax, alpha=0.5, color=\"black\")\n",
    "\n",
    "    # diff 2 -> 1\n",
    "    ax = axes[1, 1]\n",
    "    ax.set_title(\"2 Difference 1\")\n",
    "    case.gdf1.plot(ax=ax, alpha=0.5, color=\"magenta\")\n",
    "    case.gdf2.plot(ax=ax, alpha=0.5, color=\"cyan\")\n",
    "    case.gdf2_gdf1_overlay_difference().plot(ax=ax, alpha=0.5, color=\"black\")\n",
    "\n",
    "    for ax in axes.flatten():\n",
    "        ax.axis(\"off\")\n",
    "    fig.tight_layout()\n",
    "\n",
    "    plt.show()\n",
    "    plt.close(fig)"
   ]
  },
  {
   "cell_type": "code",
   "execution_count": null,
   "metadata": {},
   "outputs": [],
   "source": [
    "plot_generator(shapes.RandomSpotsGenerator())"
   ]
  },
  {
   "cell_type": "code",
   "execution_count": null,
   "metadata": {},
   "outputs": [],
   "source": [
    "plot_generator(shapes.RandomCenterTargetsGenerator())"
   ]
  },
  {
   "cell_type": "code",
   "execution_count": null,
   "metadata": {},
   "outputs": [],
   "source": [
    "plot_generator(shapes.RandomRadiusTargetsGenerator())"
   ]
  }
 ],
 "metadata": {
  "kernelspec": {
   "display_name": "Python 3.10.5 ('shapely-v2')",
   "language": "python",
   "name": "python3"
  },
  "language_info": {
   "codemirror_mode": {
    "name": "ipython",
    "version": 3
   },
   "file_extension": ".py",
   "mimetype": "text/x-python",
   "name": "python",
   "nbconvert_exporter": "python",
   "pygments_lexer": "ipython3",
   "version": "3.10.5"
  },
  "orig_nbformat": 4,
  "vscode": {
   "interpreter": {
    "hash": "50e007d1f45825bdc6168e7dde884eca93f8da993b0f4f818996b7c41f1ef79a"
   }
  }
 },
 "nbformat": 4,
 "nbformat_minor": 2
}
