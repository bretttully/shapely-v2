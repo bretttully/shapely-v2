{
 "cells": [
  {
   "cell_type": "code",
   "execution_count": null,
   "metadata": {},
   "outputs": [],
   "source": [
    "import geopandas as gpd\n",
    "import matplotlib.pyplot as plt\n",
    "import shapely\n",
    "from shapely.errors import GEOSException\n",
    "import shapely.wkt\n",
    "\n",
    "from shapely_test import shapes\n",
    "from shapely_test.cases import TestCase\n",
    "\n",
    "print(f\"{shapely.__version__ = }\")"
   ]
  },
  {
   "cell_type": "code",
   "execution_count": null,
   "metadata": {},
   "outputs": [],
   "source": [
    "def plot_generator(case: TestCase):\n",
    "    print(f\"{case.gdf1_is_valid() = } and {case.gdf2_is_valid() = }\")\n",
    "\n",
    "    fig, axes = plt.subplots(ncols=4, nrows=2, figsize=(40, 20), dpi=72)\n",
    "\n",
    "    # intersection\n",
    "    ax = axes[0, 0]\n",
    "    ax.set_title(\"1 Intersection 2\")\n",
    "    case.gdf1.plot(ax=ax, alpha=0.5, color=\"magenta\")\n",
    "    case.gdf2.plot(ax=ax, alpha=0.5, color=\"cyan\")\n",
    "    try:\n",
    "        case.gdf1_gdf2_overlay_intersection().plot(ax=ax, alpha=0.5, color=\"black\")\n",
    "    except GEOSException as e:\n",
    "        plot_error(\"gdf1_gdf2_overlay_intersection\", e, ax)\n",
    "\n",
    "    # union\n",
    "    ax = axes[1, 0]\n",
    "    ax.set_title(\"1 Union 2\")\n",
    "    case.gdf1.plot(ax=ax, alpha=0.5, color=\"magenta\")\n",
    "    case.gdf2.plot(ax=ax, alpha=0.5, color=\"cyan\")\n",
    "    try:\n",
    "        case.gdf1_gdf2_overlay_union().plot(ax=ax, alpha=0.4, color=\"black\")\n",
    "    except GEOSException as e:\n",
    "        plot_error(\"gdf1_gdf2_overlay_union\", e, ax)\n",
    "\n",
    "    # diff 1 -> 2\n",
    "    ax = axes[0, 1]\n",
    "    ax.set_title(\"1 Difference 2\")\n",
    "    case.gdf1.plot(ax=ax, alpha=0.5, color=\"magenta\")\n",
    "    case.gdf2.plot(ax=ax, alpha=0.5, color=\"cyan\")\n",
    "    try:\n",
    "        case.gdf1_gdf2_overlay_difference().plot(ax=ax, alpha=0.5, color=\"black\")\n",
    "    except GEOSException as e:\n",
    "        plot_error(\"gdf1_gdf2_overlay_difference\", e, ax)\n",
    "\n",
    "    # diff 2 -> 1\n",
    "    ax = axes[1, 1]\n",
    "    ax.set_title(\"2 Difference 1\")\n",
    "    case.gdf1.plot(ax=ax, alpha=0.5, color=\"magenta\")\n",
    "    case.gdf2.plot(ax=ax, alpha=0.5, color=\"cyan\")\n",
    "    try:\n",
    "        case.gdf2_gdf1_overlay_difference().plot(ax=ax, alpha=0.5, color=\"black\")\n",
    "    except GEOSException as e:\n",
    "        plot_error(\"gdf2_gdf1_overlay_difference\", e, ax)\n",
    "\n",
    "    # diff 1 -> 1\n",
    "    ax = axes[0, 2]\n",
    "    ax.set_title(\"1 Difference 1\")\n",
    "    case.gdf1.plot(ax=ax, alpha=0.5, color=\"magenta\")\n",
    "    try:\n",
    "        gdf = case.gdf1_gdf1_overlay_difference()\n",
    "        if len(gdf) > 0:\n",
    "            plot_gdf_and_zoom(gdf, ax)\n",
    "    except GEOSException as e:\n",
    "        plot_error(\"gdf1_gdf1_overlay_difference\", e, ax)\n",
    "\n",
    "    # union 1 -> 1\n",
    "    ax = axes[1, 2]\n",
    "    ax.set_title(\"1 Union 1\")\n",
    "    case.gdf1.plot(ax=ax, alpha=0.5, color=\"magenta\")\n",
    "    try:\n",
    "        case.gdf1_gdf1_overlay_union().plot(ax=ax, alpha=0.5, color=\"black\")\n",
    "    except GEOSException as e:\n",
    "        plot_error(\"gdf1_gdf1_overlay_union\", e, ax)\n",
    "\n",
    "    # diff 2 -> 2\n",
    "    ax = axes[0, 3]\n",
    "    ax.set_title(\"2 Difference 2\")\n",
    "    case.gdf2.plot(ax=ax, alpha=0.5, color=\"cyan\")\n",
    "    try:\n",
    "        gdf = case.gdf2_gdf2_overlay_difference()\n",
    "        if len(gdf) > 0:\n",
    "            plot_gdf_and_zoom(gdf, ax)\n",
    "    except GEOSException as e:\n",
    "        plot_error(\"gdf2_gdf2_overlay_difference\", e, ax)\n",
    "\n",
    "    # union 2 -> 2\n",
    "    ax = axes[1, 3]\n",
    "    ax.set_title(\"2 Union 2\")\n",
    "    case.gdf2.plot(ax=ax, alpha=0.5, color=\"cyan\")\n",
    "    try:\n",
    "        case.gdf2_gdf2_overlay_union().plot(ax=ax, alpha=0.5, color=\"black\")\n",
    "    except GEOSException as e:\n",
    "        plot_error(\"gdf2_gdf2_overlay_union\", e, ax)\n",
    "\n",
    "    for ax in axes.flatten():\n",
    "        ax.axis(\"off\")\n",
    "    fig.tight_layout()\n",
    "\n",
    "    plt.show()\n",
    "    plt.close(fig)\n",
    "\n",
    "\n",
    "def plot_error(name: str, e: GEOSException, ax: plt.Axes):\n",
    "    start = \"TopologyException: found non-noded intersection between \"\n",
    "    e = str(e)\n",
    "    if e.startswith(start):\n",
    "        ab, cd = e[len(start):].split(\" and \")\n",
    "        cd = cd.split(\" at \")[0]\n",
    "        ab, cd = shapely.wkt.loads(ab), shapely.wkt.loads(cd)\n",
    "        plot_gdf_and_zoom(gpd.GeoDataFrame([ab, cd], columns=[\"geometry\"]), ax)\n",
    "    else:\n",
    "        print(e)\n",
    "        print(start)\n",
    "\n",
    "\n",
    "def plot_gdf_and_zoom(gdf: gpd.GeoDataFrame, ax: plt.Axes):\n",
    "    gdf.plot(ax=ax, facecolor=\"none\", edgecolor=\"black\")\n",
    "    xmin, ymin, xmax, ymax = gdf.unary_union.bounds\n",
    "    delta = max(xmax - xmin, ymax - ymin) // 2 + 1\n",
    "    xcenter, ycenter = 0.5 * (xmin + xmax), 0.5 * (ymin + ymax)\n",
    "    ax.set_xlim([xcenter - delta, xcenter + delta])\n",
    "    ax.set_ylim([ycenter - delta, ycenter + delta])"
   ]
  },
  {
   "cell_type": "code",
   "execution_count": null,
   "metadata": {},
   "outputs": [],
   "source": [
    "plot_generator(case=TestCase(shapes.RandomCenterTargetsGenerator(), seed=207))"
   ]
  },
  {
   "cell_type": "code",
   "execution_count": null,
   "metadata": {},
   "outputs": [],
   "source": [
    "plot_generator(case=TestCase(shapes.RandomCenterTargetsGenerator(), seed=254))"
   ]
  },
  {
   "cell_type": "code",
   "execution_count": null,
   "metadata": {},
   "outputs": [],
   "source": [
    "plot_generator(case=TestCase(shapes.RandomRadiusTargetsGenerator(), seed=324))"
   ]
  },
  {
   "cell_type": "code",
   "execution_count": null,
   "metadata": {},
   "outputs": [],
   "source": [
    "case = TestCase(shapes.RandomSpotsGenerator(), seed=323)\n",
    "plot_generator(case)"
   ]
  },
  {
   "cell_type": "code",
   "execution_count": null,
   "metadata": {},
   "outputs": [],
   "source": [
    "plot_generator(case=TestCase(shapes.RandomSpotsGenerator(), seed=439))"
   ]
  }
 ],
 "metadata": {
  "kernelspec": {
   "display_name": "Python 3.10.5 ('shapely-v2')",
   "language": "python",
   "name": "python3"
  },
  "language_info": {
   "codemirror_mode": {
    "name": "ipython",
    "version": 3
   },
   "file_extension": ".py",
   "mimetype": "text/x-python",
   "name": "python",
   "nbconvert_exporter": "python",
   "pygments_lexer": "ipython3",
   "version": "3.10.5"
  },
  "orig_nbformat": 4,
  "vscode": {
   "interpreter": {
    "hash": "50e007d1f45825bdc6168e7dde884eca93f8da993b0f4f818996b7c41f1ef79a"
   }
  }
 },
 "nbformat": 4,
 "nbformat_minor": 2
}
